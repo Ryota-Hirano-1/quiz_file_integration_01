{
 "cells": [
  {
   "cell_type": "code",
   "execution_count": 1,
   "id": "e3f0a256",
   "metadata": {},
   "outputs": [],
   "source": [
    "import os\n",
    "import glob\n",
    "import pandas as pd\n",
    "from openpyxl import load_workbook\n",
    "from openpyxl.styles import Alignment, Font"
   ]
  },
  {
   "cell_type": "code",
   "execution_count": 3,
   "id": "551fa6f3",
   "metadata": {},
   "outputs": [],
   "source": [
    "# 対象フォルダのパスを指定\n",
    "folder_path = '（対象ファイルが入ったフォルダのパスを指定）'"
   ]
  },
  {
   "cell_type": "code",
   "execution_count": 4,
   "id": "2b186462",
   "metadata": {},
   "outputs": [],
   "source": [
    "# フォルダ内のExcelファイルを取得\n",
    "# 拡張子が.xlsxのファイルを取得\n",
    "excel_files = glob.glob(os.path.join(folder_path, '*.xlsx'))"
   ]
  },
  {
   "cell_type": "code",
   "execution_count": 5,
   "id": "567074a1",
   "metadata": {},
   "outputs": [],
   "source": [
    "# 統合用のデータフレームを作成\n",
    "all_data = pd.DataFrame()"
   ]
  },
  {
   "cell_type": "code",
   "execution_count": 6,
   "id": "2e98d90d",
   "metadata": {},
   "outputs": [],
   "source": [
    "# 必要なカラム名のリスト\n",
    "required_columns = [\"問題\", \"解答\", \"備考\", \"時事\", \"作成者\"]"
   ]
  },
  {
   "cell_type": "code",
   "execution_count": 7,
   "id": "c3d82b55",
   "metadata": {},
   "outputs": [],
   "source": [
    "# 各Excelファイルを読み込み、必要なカラムを抽出して統合\n",
    "for file in excel_files:\n",
    "    df = pd.read_excel(file, usecols=required_columns)\n",
    "    all_data = pd.concat([all_data, df], ignore_index=True)"
   ]
  },
  {
   "cell_type": "code",
   "execution_count": 8,
   "id": "1ad99582",
   "metadata": {},
   "outputs": [],
   "source": [
    "# 通し番号のカラムを追加\n",
    "all_data.insert(0, '番号', range(1, len(all_data) + 1))"
   ]
  },
  {
   "cell_type": "code",
   "execution_count": 9,
   "id": "68d38df5",
   "metadata": {},
   "outputs": [
    {
     "name": "stdout",
     "output_type": "stream",
     "text": [
      "統合されたファイルは （指定ファイル名）.xlsx に保存されました。\n"
     ]
    }
   ],
   "source": [
    "# 統合したデータを新しいExcelファイルに保存\n",
    "output_file = '（指定ファイル名）.xlsx'\n",
    "all_data.to_excel(output_file, index=False)\n",
    "\n",
    "print(f'統合されたファイルは {output_file} に保存されました。')"
   ]
  },
  {
   "cell_type": "code",
   "execution_count": null,
   "id": "bb2e9b4c",
   "metadata": {},
   "outputs": [],
   "source": []
  }
 ],
 "metadata": {
  "kernelspec": {
   "display_name": "Python 3 (ipykernel)",
   "language": "python",
   "name": "python3"
  },
  "language_info": {
   "codemirror_mode": {
    "name": "ipython",
    "version": 3
   },
   "file_extension": ".py",
   "mimetype": "text/x-python",
   "name": "python",
   "nbconvert_exporter": "python",
   "pygments_lexer": "ipython3",
   "version": "3.9.13"
  }
 },
 "nbformat": 4,
 "nbformat_minor": 5
}
